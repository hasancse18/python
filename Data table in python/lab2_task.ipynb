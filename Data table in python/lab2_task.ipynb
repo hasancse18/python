{
 "cells": [
  {
   "cell_type": "code",
   "execution_count": 61,
   "metadata": {},
   "outputs": [],
   "source": [
    "import pandas as pd \n",
    "import numpy as edu\n",
    "import numpy as inc\n",
    "import numpy as age\n",
    "import numpy as marry\n",
    "import numpy as bc\n",
    "import numpy as a\n",
    "import math\n",
    "from pandas import *\n",
    "df = pd.read_csv('computer.csv')\n",
    "#print(df)\n",
    "age=df.Age\n",
    "#print(age)\n",
    "edu=df.Education\n",
    "inc=df['Income']\n",
    "\n",
    "marry=df.Marrital_Status\n",
    "#print(inc,marry)\n",
    "#bc=df.Buy_computer\n",
    "\n",
    "\n",
    "\n"
   ]
  },
  {
   "cell_type": "code",
   "execution_count": 63,
   "metadata": {},
   "outputs": [],
   "source": [
    "age=pd.value_counts(df['Age'])\n",
    "\n",
    "marry=pd.value_counts(df['Marrital_Status'])\n",
    "bc=pd.value_counts(df['Buy_computer'])\n",
    "edu=pd.value_counts(df['Education'])\n"
   ]
  },
  {
   "cell_type": "code",
   "execution_count": 64,
   "metadata": {},
   "outputs": [],
   "source": [
    "#count the entropy of buy computer class\n",
    "import math\n",
    "y_bc=bc[0]/20\n",
    "n_bc=bc[1]/20\n",
    "entropy_bc=-((y_bc*math.log2(y_bc))+(n_bc*math.log2(n_bc)))\n"
   ]
  },
  {
   "cell_type": "code",
   "execution_count": 58,
   "metadata": {},
   "outputs": [
    {
     "data": {
      "text/plain": [
       "0.03030514483932223"
      ]
     },
     "execution_count": 58,
     "metadata": {},
     "output_type": "execute_result"
    }
   ],
   "source": [
    "#calculating the information gain of icome class\n",
    "import math\n",
    "#counting the probability of income class \n",
    "inc=df['Income']\n",
    "bc=df['Buy_computer']\n",
    "inc_one=pd.value_counts(df['Income'])\n",
    "#print(inc)\n",
    "H_inc=inc_one[0]\n",
    "L_inc=inc_one[1]\n",
    "#print(\"Probability of Highest Income\",H_inc)\n",
    "#print(\"probability of Lowest Income = \",L_inc)\n",
    "#entropy of buy computer when income is high\n",
    "inc_h_y_bc=0\n",
    "for i , j in zip(inc ,bc):\n",
    "    if(  j==\"Yes\" and i==\"High\"):\n",
    "       inc_h_y_bc=inc_h_y_bc+1\n",
    "inc_h_y_bc = inc_h_y_bc/H_inc\n",
    "\n",
    "inc_h_n_bc=0\n",
    "for i , j in zip(inc ,bc):\n",
    "    if(  j==\"No\" and i==\"High\"):\n",
    "       inc_h_n_bc=inc_h_n_bc+1\n",
    "              \n",
    "inc_h_n_bc = inc_h_n_bc / H_inc  \n",
    "   \n",
    "entropy_bc_inc_h=-((inc_h_y_bc*math.log2(inc_h_y_bc))+(inc_h_n_bc*math.log2(inc_h_n_bc)))\n",
    "\n",
    "#entropy of buy computer when income is low   \n",
    "inc_l_y_bc=0\n",
    "for i , j in zip(inc ,bc):\n",
    "    if(  j==\"Yes\" and i==\"Low\"):\n",
    "       inc_l_y_bc=inc_l_y_bc+1\n",
    "inc_l_y_bc = inc_l_y_bc/L_inc\n",
    " \n",
    "\n",
    "inc_l_n_bc=0\n",
    "for i , j in zip(inc ,bc):\n",
    "    if(  j==\"No\" and i==\"Low\"):\n",
    "       inc_l_n_bc=inc_l_n_bc+1\n",
    "              \n",
    "inc_l_n_bc = inc_l_n_bc / L_inc  \n",
    "entropy_bc_inc_l=-((inc_l_y_bc*math.log2(inc_l_y_bc))+(inc_l_n_bc*math.log2(inc_l_n_bc)))\n",
    "\n",
    "H_inc=H_inc/20\n",
    "L_inc=L_inc/20\n",
    "\n",
    "bc_income=(H_inc*entropy_bc_inc_h)+(L_inc*entropy_bc_inc_l)\n",
    "ig_income=entropy_bc - bc_income\n",
    "ig_income"
   ]
  },
  {
   "cell_type": "code",
   "execution_count": 6,
   "metadata": {},
   "outputs": [
    {
     "name": "stdout",
     "output_type": "stream",
     "text": [
      "Probability of age 36-55 = 0.4\n",
      "Probability of age >55 = 0.25\n",
      "Probability of age 18-35 = 0.2\n",
      "Probability of age <18 = 0.15\n"
     ]
    }
   ],
   "source": [
    "y_age=age[0]/20\n",
    "n_age=age[1]/20\n",
    "p_age=age[2]/20\n",
    "q_age=age[3]/20\n",
    "print(\"Probability of age 36-55 =\",y_age)\n",
    "print(\"Probability of age >55 =\",n_age)\n",
    "print(\"Probability of age 18-35 =\",p_age)\n",
    "print(\"Probability of age <18 =\",q_age)"
   ]
  },
  {
   "cell_type": "code",
   "execution_count": 7,
   "metadata": {},
   "outputs": [
    {
     "name": "stdout",
     "output_type": "stream",
     "text": [
      "Probability of Marry = 0.6\n",
      "Probability of Single = 0.4\n"
     ]
    }
   ],
   "source": [
    "#calculating the information gain of age class\n",
    "import math\n",
    "#counting the probability of income class \n",
    "age=df['Age']\n",
    "bc=df['Buy_computer']\n",
    "age_one=pd.value_counts(df['Income'])\n",
    "#print(inc)\n",
    "age1=age_one[0]\n",
    "age2=age_one[1]\n",
    "age3=age_one[2]\n",
    "age2=age_one[3]\n",
    "#print(\"Probability of Highest Income\",H_inc)\n",
    "#print(\"probability of Lowest Income = \",L_inc)\n",
    "#entropy of buy computer when income is high\n",
    "age1_y_bc=0\n",
    "for i , j in zip(age1 ,bc):\n",
    "    if(  j==\"36-55\" and i==\"High\"):\n",
    "       age1_y_bc=age1_y_bc+1\n",
    "age1_y_bc = age1_y_bc/H_inc\n",
    "\n",
    "inc_h_n_bc=0\n",
    "for i , j in zip(inc ,bc):\n",
    "    if(  j==\"No\" and i==\"High\"):\n",
    "       inc_h_n_bc=inc_h_n_bc+1\n",
    "              \n",
    "inc_h_n_bc = inc_h_n_bc / H_inc  \n",
    "   \n",
    "entropy_bc_inc_h=-((inc_h_y_bc*math.log2(inc_h_y_bc))+(inc_h_n_bc*math.log2(inc_h_n_bc)))\n",
    "\n",
    "#entropy of buy computer when income is low   \n",
    "inc_l_y_bc=0\n",
    "for i , j in zip(inc ,bc):\n",
    "    if(  j==\"Yes\" and i==\"Low\"):\n",
    "       inc_l_y_bc=inc_l_y_bc+1\n",
    "inc_l_y_bc = inc_l_y_bc/L_inc\n",
    " \n",
    "\n",
    "inc_l_n_bc=0\n",
    "for i , j in zip(inc ,bc):\n",
    "    if(  j==\"No\" and i==\"Low\"):\n",
    "       inc_l_n_bc=inc_l_n_bc+1\n",
    "              \n",
    "inc_l_n_bc = inc_l_n_bc / L_inc  \n",
    "entropy_bc_inc_l=-((inc_l_y_bc*math.log2(inc_l_y_bc))+(inc_l_n_bc*math.log2(inc_l_n_bc)))\n",
    "\n",
    "H_inc=H_inc/20\n",
    "L_inc=L_inc/20\n",
    "\n",
    "bc_income=(H_inc*entropy_bc_inc_h)+(L_inc*entropy_bc_inc_l)\n",
    "ig_income=entropy_bc - bc_income\n",
    "ig_income"
   ]
  },
  {
   "cell_type": "code",
   "execution_count": null,
   "metadata": {},
   "outputs": [],
   "source": [
    "\n",
    "\n"
   ]
  },
  {
   "cell_type": "code",
   "execution_count": null,
   "metadata": {},
   "outputs": [],
   "source": []
  }
 ],
 "metadata": {
  "kernelspec": {
   "display_name": "Python 3.10.7 64-bit",
   "language": "python",
   "name": "python3"
  },
  "language_info": {
   "codemirror_mode": {
    "name": "ipython",
    "version": 3
   },
   "file_extension": ".py",
   "mimetype": "text/x-python",
   "name": "python",
   "nbconvert_exporter": "python",
   "pygments_lexer": "ipython3",
   "version": "3.10.7"
  },
  "orig_nbformat": 4,
  "vscode": {
   "interpreter": {
    "hash": "e9487f80b5c2735bbc4afc7489ff13f77596a62e20b78908b8eb2e8fe79271a4"
   }
  }
 },
 "nbformat": 4,
 "nbformat_minor": 2
}
