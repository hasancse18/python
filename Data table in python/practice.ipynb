{
 "cells": [
  {
   "cell_type": "code",
   "execution_count": null,
   "metadata": {},
   "outputs": [],
   "source": [
    "import pandas as pd \n",
    "import numpy as ar\n",
    "import numpy as bc\n",
    "import numpy as age\n",
    "import numpy as b\n",
    "import numpy as a\n",
    "import math\n",
    "df = pd.read_csv('computer.csv')\n",
    "ar=pd.value_counts(df['Marital Status'])\n",
    "bc=pd.value_counts(df['Buy_computer'])\n",
    "print(bc)\n",
    "print(ar)"
   ]
  },
  {
   "cell_type": "code",
   "execution_count": 10,
   "metadata": {},
   "outputs": [
    {
     "name": "stdout",
     "output_type": "stream",
     "text": [
      "0.6\n",
      "0.4\n",
      "0.9709505944546686\n"
     ]
    }
   ],
   "source": [
    "import math\n",
    "y_bc=bc[0]/20\n",
    "n_bc=bc[1]/20\n",
    "entropy_bc=-((y_bc*math.log2(y_bc))+(n_bc*math.log2(n_bc)))\n",
    "print(y_bc)\n",
    "print(n_bc)\n",
    "print(entropy_bc)\n"
   ]
  },
  {
   "cell_type": "code",
   "execution_count": 85,
   "metadata": {},
   "outputs": [
    {
     "data": {
      "text/plain": [
       "36-55    8\n",
       ">55      5\n",
       "1        4\n",
       "18-35    3\n",
       "Name: Age, dtype: int64"
      ]
     },
     "execution_count": 85,
     "metadata": {},
     "output_type": "execute_result"
    }
   ],
   "source": [
    "age=pd.value_counts(df['Age'])\n",
    "age"
   ]
  },
  {
   "cell_type": "code",
   "execution_count": 16,
   "metadata": {},
   "outputs": [],
   "source": [
    "a_age=age[0]/20\n",
    "b_age=age[1]/20\n",
    "c_age=age[2]/20\n",
    "d_age=age[3]/20"
   ]
  },
  {
   "cell_type": "code",
   "execution_count": 17,
   "metadata": {},
   "outputs": [
    {
     "name": "stdout",
     "output_type": "stream",
     "text": [
      "0.4 0.25\n"
     ]
    }
   ],
   "source": [
    "print(a_age,b_age)"
   ]
  },
  {
   "cell_type": "code",
   "execution_count": null,
   "metadata": {},
   "outputs": [],
   "source": []
  },
  {
   "cell_type": "markdown",
   "metadata": {},
   "source": [
    "calculating entropy for age class\n"
   ]
  },
  {
   "cell_type": "code",
   "execution_count": 72,
   "metadata": {},
   "outputs": [
    {
     "name": "stdout",
     "output_type": "stream",
     "text": [
      "False    20\n",
      "Name: Age, dtype: int64\n"
     ]
    }
   ],
   "source": [
    "a=pd.value_counts(df['Age'] == '<18')\n",
    "\n",
    "print(a)\n",
    "    \n",
    "\n",
    "        "
   ]
  },
  {
   "cell_type": "code",
   "execution_count": 108,
   "metadata": {},
   "outputs": [
    {
     "ename": "TypeError",
     "evalue": "can't multiply sequence by non-int of type 'str'",
     "output_type": "error",
     "traceback": [
      "\u001b[1;31m---------------------------------------------------------------------------\u001b[0m",
      "\u001b[1;31mTypeError\u001b[0m                                 Traceback (most recent call last)",
      "Cell \u001b[1;32mIn [108], line 15\u001b[0m\n\u001b[0;32m      9\u001b[0m \u001b[39m#print(ax)    \u001b[39;00m\n\u001b[0;32m     10\u001b[0m \u001b[39m#print(a)       \u001b[39;00m\n\u001b[0;32m     11\u001b[0m \u001b[39m#print(b)\u001b[39;00m\n\u001b[0;32m     12\u001b[0m \n\u001b[0;32m     13\u001b[0m \u001b[39m#ax_18\u001b[39;00m\n\u001b[0;32m     14\u001b[0m \u001b[39mfor\u001b[39;00m i \u001b[39min\u001b[39;00m \u001b[39mrange\u001b[39m(\u001b[39m0\u001b[39m,\u001b[39m20\u001b[39m):\n\u001b[1;32m---> 15\u001b[0m     \u001b[39mif\u001b[39;00m(ax[i]\u001b[39m*\u001b[39;49mb[i] \u001b[39m==\u001b[39m \u001b[39m1\u001b[39m):\n\u001b[0;32m     16\u001b[0m         \u001b[39mprint\u001b[39m(\u001b[39m'\u001b[39m\u001b[39mq\u001b[39m\u001b[39m'\u001b[39m)\n",
      "\u001b[1;31mTypeError\u001b[0m: can't multiply sequence by non-int of type 'str'"
     ]
    }
   ],
   "source": [
    "ax=df.Age\n",
    "b=df.Buy_computer\n",
    "for i in range(0,20):\n",
    "    if( b[i] == 'Yes'):\n",
    "        b[i] = 1\n",
    "for i in range(0,20):\n",
    "    if( ax[i] == '<18'):\n",
    "        ax[i] = 1\n",
    "#print(ax)    \n",
    "#print(a)       \n",
    "#print(b)\n",
    "\n",
    "#ax_18\n",
    "for i in range(0,20):\n",
    "    if(ax[i]*b[i] == 1):\n",
    "        print('q')\n"
   ]
  }
 ],
 "metadata": {
  "kernelspec": {
   "display_name": "Python 3.10.7 64-bit",
   "language": "python",
   "name": "python3"
  },
  "language_info": {
   "codemirror_mode": {
    "name": "ipython",
    "version": 3
   },
   "file_extension": ".py",
   "mimetype": "text/x-python",
   "name": "python",
   "nbconvert_exporter": "python",
   "pygments_lexer": "ipython3",
   "version": "3.10.7"
  },
  "orig_nbformat": 4,
  "vscode": {
   "interpreter": {
    "hash": "e9487f80b5c2735bbc4afc7489ff13f77596a62e20b78908b8eb2e8fe79271a4"
   }
  }
 },
 "nbformat": 4,
 "nbformat_minor": 2
}
